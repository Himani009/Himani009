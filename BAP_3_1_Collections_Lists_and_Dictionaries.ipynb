{
  "nbformat": 4,
  "nbformat_minor": 0,
  "metadata": {
    "kernelspec": {
      "display_name": "Python 3",
      "language": "python",
      "name": "python3"
    },
    "language_info": {
      "codemirror_mode": {
        "name": "ipython",
        "version": 3
      },
      "file_extension": ".py",
      "mimetype": "text/x-python",
      "name": "python",
      "nbconvert_exporter": "python",
      "pygments_lexer": "ipython3",
      "version": "3.7.1"
    },
    "colab": {
      "provenance": [],
      "include_colab_link": true
    }
  },
  "cells": [
    {
      "cell_type": "markdown",
      "metadata": {
        "id": "view-in-github",
        "colab_type": "text"
      },
      "source": [
        "<a href=\"https://colab.research.google.com/github/Himani009/Himani009/blob/main/BAP_3_1_Collections_Lists_and_Dictionaries.ipynb\" target=\"_parent\"><img src=\"https://colab.research.google.com/assets/colab-badge.svg\" alt=\"Open In Colab\"/></a>"
      ]
    },
    {
      "cell_type": "markdown",
      "metadata": {
        "id": "c6iVpOKozR9X"
      },
      "source": [
        "# Lesson 3.1 - Python Data Structures: Lists and Dictionaries\n",
        "\n",
        "**THE DESTINATION FOR THIS JOURNEY**\n",
        "A data-structure defines (the \"rules\" for) how data are stored, and engaged/processed. In Python, several different types of data structures may be used. If the term data structure confuses you, then, at the least, recognize the names of the various types of data structures (e.g., list, dictionary, set, tuple), and the rules for creating, and engaging with each data-structure type.\n",
        "\n",
        "The destination for this week's journey is greater appreciation for:\n",
        "\n",
        "1.   The ways that data of various types are structured/organized/stored -- we'll call this a data-structure type \n",
        "2.   How to access/engage/\"navigate\" any bit of data for a particular \n",
        "\n",
        "In this lesson plan, we'll discuss a couple of data-structure types: lists, and dictionaries.\n",
        "\n",
        "Two key things to keep in mind when engaging this week's lesson plans are the \"rules\"/reality associated with:\n",
        "\n",
        "\n",
        "1.   How data are stored in a particular type of data structure, and\n",
        "2.   How to create, and edit -- which can include adding elements, deleting elements, and modifying elements -- elements in particular type of data structure.\n"
      ]
    },
    {
      "cell_type": "markdown",
      "metadata": {
        "id": "WZHY17YQzR9Y"
      },
      "source": [
        "## Resources\n",
        "- [A Practical Introduction to Python Programming](https://www.brianheinold.net/python/A_Practical_Introduction_to_Python_Programming_Heinold.pdf)\n",
        "- [w3 Schools, Lists](https://www.w3schools.com/python/python_lists.asp)\n",
        "- [w3 Schools, Dictionaries](https://www.w3schools.com/python/python_dictionaries.asp)"
      ]
    },
    {
      "cell_type": "markdown",
      "metadata": {
        "id": "ov5hsEbFzR9Y"
      },
      "source": [
        "## Videos\n",
        "- [Overview of Lists](https://youtu.be/y0izjQCgkN8)\n",
        "- [Overview of Dictionaries](https://drive.google.com/file/d/1mNw1QDLGPwE6Ld_MyAmwxAYJ95OrTi-W/view?usp=sharing)\n"
      ]
    },
    {
      "cell_type": "markdown",
      "metadata": {
        "id": "BPvWKfpAzR9Z"
      },
      "source": [
        "## Objectives\n"
      ]
    },
    {
      "cell_type": "markdown",
      "metadata": {
        "id": "E8EDC0utzR9Z"
      },
      "source": [
        "Review these materials outside of class or use them as a reference during class.  You will need to have some familiarity with these principles and methods as we work on drawing data from internet sources over the next couple of weeks. "
      ]
    },
    {
      "cell_type": "markdown",
      "metadata": {
        "id": "3rE8WTkBzR9a"
      },
      "source": [
        "## Collections\n",
        "As we approach our goal of scraping data from the internet and building skills for organizing and manipulating that data, it will be important to have some familiarity with data manipulation methods.  Now, we work with Lists and Dictionaries and practice the associated methods. In the near future, we will begin extracting data from the internet where we will find it important to utilize the methods covered in this lesson.    "
      ]
    },
    {
      "cell_type": "markdown",
      "metadata": {
        "id": "tfHw-QTfzR9a"
      },
      "source": [
        "### Lists"
      ]
    },
    {
      "cell_type": "code",
      "metadata": {
        "id": "fTDiCFKpzR9b"
      },
      "source": [
        "short_list = ['a','b','c']\n",
        "long_list = [[1,2,3],[4,5,6],[7,8,9]]"
      ],
      "execution_count": null,
      "outputs": []
    },
    {
      "cell_type": "markdown",
      "metadata": {
        "id": "GZLX425KzR9d"
      },
      "source": [
        "#### Selecting from a list"
      ]
    },
    {
      "cell_type": "code",
      "metadata": {
        "id": "i014sDs_zR9e"
      },
      "source": [
        "short_list = ['a','b','c'] # short_list has 3 elements/data-bits in it.\n",
        "\n",
        "# selecting items/elements/data-bits from a list\n",
        "print(short_list[0]) # print the element at index 0 of the list short_list.\n",
        "print(short_list[1]) # print the element at index 1 of the list short_list."
      ],
      "execution_count": null,
      "outputs": []
    },
    {
      "cell_type": "markdown",
      "metadata": {
        "id": "CaPDzIc9zR9g"
      },
      "source": [
        "#### Selecting from a nested/\"multi-level\" list"
      ]
    },
    {
      "cell_type": "code",
      "metadata": {
        "scrolled": true,
        "id": "eyLs7KKxzR9g",
        "colab": {
          "base_uri": "https://localhost:8080/"
        },
        "outputId": "12ae2f48-3723-4a8b-b7fb-2fdd38c369f1"
      },
      "source": [
        "# Notice that long_list, defined below, has 3 different lists \"nested\" within it (i.e., a list within a list). long_list is a list of 3 lists!\n",
        "long_list = [[1,2,3],[4,5,6],[7,8,9]]\n",
        "print (\"The number of items in long_list is\",len(long_list)) # Each list is an item of long_list. And, it so happens that each of these lists have 3 items.\n",
        "print (\"The first item in long_list is\",long_list[0],\"The 2nd item is\",long_list[1], \"and the 3rd item in long_list is\",long_list[2])\n",
        "\n",
        "# Selecting items from a nested list\n",
        "long_list[0][0]        # The first set of brackets refers to the top/first \"level\" of the list.\n",
        "long_list[1][2]        # Each Xth set of brackets refers to the Xth nested \"level\"  of the list. In this case, the 2nd set of brackets refers to the 2nd nested level of the list.\n",
        "long_list[2][0]        # To engage an element that is nested down X levels, one must employ/specify X sets of brackets.\n",
        "print(\"long_list[0][0] =\",long_list[0][0], \"which is the first element in the first item of long_list\") \n",
        "                       # from the item at index 0 of level 1 (i.e., [1,2,3]), select the element at index 0 of level 2 (i.e,, 1).\n",
        "print(\"long_list[1][2] =\",long_list[1][2], \"which is the third element in the second item of long_list\")\n",
        "                       # from the item at index 1 of level 1 (i.e., [4,5,6]), select the element at index 2 of level 2 (i.e., 6)."
      ],
      "execution_count": null,
      "outputs": [
        {
          "output_type": "stream",
          "name": "stdout",
          "text": [
            "The number of items in long_list is 3\n",
            "The first item in long_list is [1, 2, 3] The 2nd item is [4, 5, 6] and the 3rd item in long_list is [7, 8, 9]\n",
            "long_list[0][0] = 1 which is the first element in the first item of long_list\n",
            "long_list[1][2] = 6 which is the third element in the second item of long_list\n"
          ]
        }
      ]
    },
    {
      "cell_type": "markdown",
      "metadata": {
        "id": "xLEh4v17zR9j"
      },
      "source": [
        "#### The append() Method\n",
        "We can use append to add items to the end of an existing list. "
      ]
    },
    {
      "cell_type": "code",
      "metadata": {
        "id": "Bp9-L3nYzR9j"
      },
      "source": [
        "short_list = ['a','b','c']\n",
        "\n",
        "# add an item to a list\n",
        "short_list.append('d')\n",
        "print(short_list)\n",
        "\n",
        "# add another element to the list\n",
        "short_list.append('e')\n",
        "print(short_list)"
      ],
      "execution_count": null,
      "outputs": []
    },
    {
      "cell_type": "code",
      "metadata": {
        "id": "zEZRuaoEzR9l"
      },
      "source": [
        "long_list = [[1,2,3],[4,5,6],[7,8,9]]\n",
        "long_list.append([10,11,12])\n",
        "print(long_list)\n",
        "\n",
        "long_list.append(13) \n",
        "print(long_list)\n",
        "\n",
        "long_list.append([14,15,16])\n",
        "print(long_list)\n",
        "\n",
        "long_list.append(17,18,19)\n",
        "print(long_list)\n",
        "# Huh? What happened with this last statement???? With the append function, one can add only a single element to a list.\n",
        "# (17,18,19) is considered 3 elements. However, [17,18,19] would have worked fine because a list is considered a single list element (that happens to contain 3 elements)\n",
        "# You can confirm this by changing (17,18,19) to ([17,18,19])\n",
        "\n",
        "# So, can one add 17, 18, and 19 as unitary elements to the end of the list with one statement? -- Yes, with the EXTEND function. Read on below!!!!!!!!!!!!!!\n",
        "\n"
      ],
      "execution_count": null,
      "outputs": []
    },
    {
      "cell_type": "markdown",
      "metadata": {
        "id": "c44VI1KzzR9p"
      },
      "source": [
        "#### The extend() Method\n",
        "The extend method is another way to add items to an existing list, however, the data is first \"unpacked\" prior to being added to the list.  "
      ]
    },
    {
      "cell_type": "code",
      "metadata": {
        "id": "WJs5P8lMzR9p"
      },
      "source": [
        "short_list = ['a','b','c','d']\n",
        "short_list.extend(['e','f'])          # FYI, the list ['e','f'] is considered one element. The Extend function will \"unpack\" the two elements within the single list element.\n",
        "print(short_list)\n",
        "\n",
        "short_list.append(['g','h'])          # FYI, the list ['g','h'] is considered one element. Append will add the list to the end, but, doesn't \"unpack\" the elements within this list.\n",
        "print(short_list)\n",
        "\n",
        "# short_list.append([i,j,k],[l,m,n])  # By the way, this won't work because this is an attempt to extend 2 list elements to the end of short_list.\n",
        "# print (short_list)\n",
        "\n",
        "# FYI, like the append function, the extend function can operate on only \"one\" element."
      ],
      "execution_count": null,
      "outputs": []
    },
    {
      "cell_type": "code",
      "metadata": {
        "id": "WvIBRd5UzR9s",
        "colab": {
          "base_uri": "https://localhost:8080/"
        },
        "outputId": "058bd4c5-fde3-4647-e428-6b6a6f2a6462"
      },
      "source": [
        "long_list=[[1, 2, 3], [4, 5, 6], [7, 8, 9], [10, 11, 12]]\n",
        "long_list.extend([13,14,15])    # See how the EXTEND function \"unpacks\" the list of [13,14,15] into individual entities 13,14,15 and then adds them to the end of long_list\n",
        "print(long_list)\n",
        "\n",
        "\n",
        "long_list.append([16, 17, 18])  # APPEND does not \"unpack\" the list -- the elements in the list \"stay together\" in the list -- and the single list is added to the end of long_list\n",
        "print(long_list)"
      ],
      "execution_count": null,
      "outputs": [
        {
          "output_type": "stream",
          "name": "stdout",
          "text": [
            "[[1, 2, 3], [4, 5, 6], [7, 8, 9], [10, 11, 12], 13, 14, 15]\n",
            "[[1, 2, 3], [4, 5, 6], [7, 8, 9], [10, 11, 12], 13, 14, 15, [16, 17, 18]]\n"
          ]
        }
      ]
    },
    {
      "cell_type": "markdown",
      "metadata": {
        "id": "9pD6lvHLzR9y"
      },
      "source": [
        "#### Exercise 1:  Using Append and Extend"
      ]
    },
    {
      "cell_type": "code",
      "metadata": {
        "id": "6La0_dwmzR9y"
      },
      "source": [
        "# Exercise with append and extend\n",
        "colors=['red','blue','yellow']\n",
        "\n",
        "# Use append to add 'orange' to the list\n",
        "\n",
        "\n",
        "# Print the result\n",
        "\n",
        "\n",
        "# Use extend to add ['green','purple'] to the list in one command\n",
        "\n",
        "\n",
        "# Print the result\n",
        "\n"
      ],
      "execution_count": null,
      "outputs": []
    },
    {
      "cell_type": "markdown",
      "metadata": {
        "id": "cOGb-8EMzR90"
      },
      "source": [
        "#### The pop() method\n",
        "This method, with no argument, will delete the last item from a list.  With an argument, say list.pop(2) will delete the item at index 2 form the list. "
      ]
    },
    {
      "cell_type": "code",
      "metadata": {
        "id": "tbcitO7VzR90"
      },
      "source": [
        "short_list = ['a','b','c','d']\n",
        "short_list.pop() # takes out the item at the last index\n",
        "print(short_list) \n",
        "\n",
        "short_list.pop(1)\n",
        "print(short_list)"
      ],
      "execution_count": null,
      "outputs": []
    },
    {
      "cell_type": "code",
      "metadata": {
        "id": "ZYFn5299zR93"
      },
      "source": [
        "short_list = ['a','b','c','d']\n",
        "short_list.pop(0) # takes out the item at index 0\n",
        "print(short_list)"
      ],
      "execution_count": null,
      "outputs": []
    },
    {
      "cell_type": "markdown",
      "metadata": {
        "id": "AM5BO3NyzR95"
      },
      "source": [
        "#### The remove() method\n",
        "This method removes an item with a specified value.  Without an argument, it will return an error. "
      ]
    },
    {
      "cell_type": "code",
      "metadata": {
        "id": "hd1C31Q1zR96"
      },
      "source": [
        "short_list = ['a','b','c','d']\n",
        "short_list.remove('c')\n",
        "print(short_list)\n",
        "\n",
        "long_list = [[1,2,3],[4,5,6],[7,8,9]]\n",
        "long_list.remove([4,5,6])\n",
        "print(long_list)\n"
      ],
      "execution_count": null,
      "outputs": []
    },
    {
      "cell_type": "markdown",
      "metadata": {
        "id": "J-BSqbH3zR98"
      },
      "source": [
        "#### Exercise 2: Pop and Remove"
      ]
    },
    {
      "cell_type": "code",
      "metadata": {
        "id": "grm2MII7zR98"
      },
      "source": [
        "# Exercise with removing values from lists with pop and remove\n",
        "colors=['red','blue','yellow','orange','green','purple']\n",
        "# Use the pop to take out the last item in the list\n",
        "\n",
        "\n",
        "# Print the result\n",
        "\n",
        "\n",
        "# Use the remove method to take out the color 'orange'\n",
        "\n",
        "\n",
        "# Print the result\n",
        "\n"
      ],
      "execution_count": null,
      "outputs": []
    },
    {
      "cell_type": "markdown",
      "metadata": {
        "id": "eXBbo_BAzR9-"
      },
      "source": [
        "#### Mutability\n",
        "Lists are mutable meaning they can be changed in place.  If I have a list of quiz scores and I drop the lowest score, I am changing the value of that list by altering its composition in place.  This is the concept of mutability. "
      ]
    },
    {
      "cell_type": "code",
      "metadata": {
        "id": "q_6dSWlyzR9_"
      },
      "source": [
        "# \n",
        "x = \"Hello\"\n",
        "print(\"x =\",x, \"and the id of x is\", id(x))    # \"Hello\" is content that is stored in a unique address/location in memory. The id of x is a reflection of the unique address/location of the content\n",
        "\n",
        "y = \"Hello\"        # Let's set the variable y to the exact same content. \"Hello\" is stored where \"Hello\" is stored.\n",
        "print(\"y =\",y, \"and the id of y is\",id(y))     # Thus, the id of y, which is a reflection of the unique location of \"Hello\", is the same as the id of x.\n",
        "\n",
        "x += \" World!\"     # Now, x becomes a reflection of the content \"Hello World!\" which is stored somewhere other than the content \"Hello\". Thus, the id of x changes too.\n",
        "print(\"Now x = something different than before,\",x,\"Thus, the id of x changes too, to\", id(x))     # the id is different, x is not the same object"
      ],
      "execution_count": null,
      "outputs": []
    },
    {
      "cell_type": "markdown",
      "metadata": {
        "id": "e-e1x0O3zR-B"
      },
      "source": [
        "The string, x, is called immutable because altering its value results in a new object in memory. "
      ]
    },
    {
      "cell_type": "code",
      "metadata": {
        "id": "Gixnq2yyzR-B",
        "colab": {
          "base_uri": "https://localhost:8080/"
        },
        "outputId": "92303991-c498-42d3-e01f-4d36116b72b2"
      },
      "source": [
        "y=[\"Hello\"]\n",
        "print(y, id(y)) # note the memory location\n",
        "\n",
        "y+=[\"World!\"]\n",
        "print(y, id(y)) # the memory location is the same, so y is the same object"
      ],
      "execution_count": null,
      "outputs": [
        {
          "output_type": "stream",
          "name": "stdout",
          "text": [
            "['Hello'] 140428660569344\n",
            "['Hello', 'World!'] 140428660569344\n"
          ]
        }
      ]
    },
    {
      "cell_type": "markdown",
      "metadata": {
        "id": "0_O05Gs-zR-D"
      },
      "source": [
        "The list, y, is called mutable because it can be changed in place. "
      ]
    },
    {
      "cell_type": "markdown",
      "metadata": {
        "id": "91bHVO_ozR-D"
      },
      "source": [
        "### Dictionaries \n",
        "Dictionaries are collections of data where each entry is associated with two parts: **a key, and a value(s) associated with that key**.  We can think of dictionaries in sort of the same way as we do lists, however, only with explicit indices that are unordered and changeable.\n",
        "\n",
        "**An analogy** that might help you make sense of the dictionary data-structure - a word dictionary!! A word dictionary can be thought of as including two parts: the word, and the associated definitions of that word (let's agree that some dictionaries include more information, such as synonyms, and usage of a word -- let's ignore this for this analogy). In a word dictionary, a word is the key, and the associated definition(s) are the value(s).\n",
        "\n",
        "The word-dictionary analogy should help you understand one key property of a Python dictionary - **each key must be unique!!!**"
      ]
    },
    {
      "cell_type": "markdown",
      "metadata": {
        "id": "e4xt55sJzR-E"
      },
      "source": [
        "#### Creating a dictionary\n",
        "An illustration: The keys are the stock names and the values are the values of their market caps.\n",
        "```\n",
        "dictionary={key: value, key: value}\n",
        "```"
      ]
    },
    {
      "cell_type": "code",
      "metadata": {
        "id": "ta1GFYFozR-F"
      },
      "source": [
        "mktcaps = {\n",
        "    'AAPL':538.7,\n",
        "    'GOOG':68.7,\n",
        "    'IONS':4.6\n",
        "}"
      ],
      "execution_count": null,
      "outputs": []
    },
    {
      "cell_type": "markdown",
      "metadata": {
        "id": "RxPAcWaazR-G"
      },
      "source": [
        "#### Accessing a value given a key\n",
        "```\n",
        "dictionary[key]\n",
        "```"
      ]
    },
    {
      "cell_type": "code",
      "metadata": {
        "id": "JbnM19iozR-H",
        "colab": {
          "base_uri": "https://localhost:8080/"
        },
        "outputId": "a64b1493-0437-42b1-9655-6e4090dec300"
      },
      "source": [
        "mktcaps['AAPL']     # This returns the value associated with the key \"AAPL\" in the dictionary mktcaps"
      ],
      "execution_count": null,
      "outputs": [
        {
          "output_type": "execute_result",
          "data": {
            "text/plain": [
              "538.7"
            ]
          },
          "metadata": {},
          "execution_count": 33
        }
      ]
    },
    {
      "cell_type": "code",
      "metadata": {
        "id": "4HqoGqIszR-I",
        "colab": {
          "base_uri": "https://localhost:8080/"
        },
        "outputId": "27459181-81f0-4d57-c259-3495e424b9ed"
      },
      "source": [
        "mktcaps.get('AAPL') # Another way to return the value associated with the key \"AAPL\" in the dictionary mktcaps"
      ],
      "execution_count": null,
      "outputs": [
        {
          "output_type": "execute_result",
          "data": {
            "text/plain": [
              "538.7"
            ]
          },
          "metadata": {},
          "execution_count": 34
        }
      ]
    },
    {
      "cell_type": "markdown",
      "metadata": {
        "id": "MMaiCoD_zR-K"
      },
      "source": [
        "#### Adding an entry to a dictionary\n",
        "```\n",
        "dictionary[key]=value\n",
        "```"
      ]
    },
    {
      "cell_type": "code",
      "metadata": {
        "id": "6U7rHl4RzR-K",
        "colab": {
          "base_uri": "https://localhost:8080/"
        },
        "outputId": "775a5f2c-1d05-4c91-b166-25cb1423febc"
      },
      "source": [
        "#Adds GS to the dictionary\n",
        "mktcaps['GS'] = 88.65     # This adds an element to the dictionary, in which the key of that element is GS, and the value associated with that key is 88.65\n",
        "print(\"Dictionary mktcaps after the element 'GS':88.65 is added\",mktcaps) \n",
        "\n",
        "mktcaps['GE'] = 10.98     # This adds an element to the dictionary, in which the key of that element is GE, and the value associated with that key is 10.95\n",
        "print(\"Dictionary mktcaps after the element 'GE':10.95 is added\",mktcaps)"
      ],
      "execution_count": null,
      "outputs": [
        {
          "output_type": "stream",
          "name": "stdout",
          "text": [
            "Dictionary mktcaps after the element 'GS':88.65 is added {'AAPL': 538.7, 'GOOG': 68.7, 'IONS': 4.6, 'GS': 88.65, 'GE': 10.98}\n",
            "Dictionary mktcaps after the element 'GE':10.95 is added {'AAPL': 538.7, 'GOOG': 68.7, 'IONS': 4.6, 'GS': 88.65, 'GE': 10.98}\n"
          ]
        }
      ]
    },
    {
      "cell_type": "markdown",
      "metadata": {
        "id": "MTyOxxVpzR-M"
      },
      "source": [
        "#### Removing an entry from a dictionary\n",
        "```\n",
        "del(dictionary[key])\n",
        "```"
      ]
    },
    {
      "cell_type": "code",
      "metadata": {
        "id": "zh-BUH1BzR-M",
        "colab": {
          "base_uri": "https://localhost:8080/"
        },
        "outputId": "c663d18b-32b6-4267-af32-ff15c2cf34fd"
      },
      "source": [
        "#Removes GOOG from mktcaps\n",
        "del(mktcaps['GOOG']) \n",
        "print(\"After DELeting the dictionary element for Google, mktcaps now equals\", mktcaps)"
      ],
      "execution_count": null,
      "outputs": [
        {
          "output_type": "stream",
          "name": "stdout",
          "text": [
            "After DELeting the dictionary element for Google, mktcaps now equals {'AAPL': 538.7, 'IONS': 4.6, 'GS': 88.65, 'GE': 10.98}\n"
          ]
        }
      ]
    },
    {
      "cell_type": "markdown",
      "metadata": {
        "id": "UkdMbmqMzR-O"
      },
      "source": [
        "#### Get all keys\n",
        "```\n",
        "dictionary.keys()\n",
        "```"
      ]
    },
    {
      "cell_type": "code",
      "metadata": {
        "id": "2eRqA2vozR-O",
        "colab": {
          "base_uri": "https://localhost:8080/"
        },
        "outputId": "4020534c-a081-4870-f88c-92d17bce4e52"
      },
      "source": [
        "# Returns all the keys\n",
        "mktcaps.keys() \n",
        "type(mktcaps.keys())"
      ],
      "execution_count": null,
      "outputs": [
        {
          "output_type": "execute_result",
          "data": {
            "text/plain": [
              "dict_keys"
            ]
          },
          "metadata": {},
          "execution_count": 6
        }
      ]
    },
    {
      "cell_type": "markdown",
      "metadata": {
        "id": "4HmdLPqSzR-Q"
      },
      "source": [
        "#### Get all values\n",
        "```\n",
        "dictionary.values()\n",
        "```"
      ]
    },
    {
      "cell_type": "code",
      "metadata": {
        "id": "RUvReVyRzR-R",
        "colab": {
          "base_uri": "https://localhost:8080/"
        },
        "outputId": "98458f2b-107a-4dc3-bb6e-178eb12c5e19"
      },
      "source": [
        "#Returns all the values\n",
        "mktcaps.values() \n",
        "type(mktcaps.values())"
      ],
      "execution_count": null,
      "outputs": [
        {
          "output_type": "execute_result",
          "data": {
            "text/plain": [
              "dict_values"
            ]
          },
          "metadata": {},
          "execution_count": 7
        }
      ]
    },
    {
      "cell_type": "code",
      "metadata": {
        "id": "ZrNMWnShzR-T"
      },
      "source": [
        "# vals=mktcaps.values() \n",
        "# from numpy import mean\n",
        "# mean(vals)"
      ],
      "execution_count": null,
      "outputs": []
    },
    {
      "cell_type": "markdown",
      "metadata": {
        "id": "5nZks57BzR-U"
      },
      "source": [
        "#### Printing keys, values, both with iteration"
      ]
    },
    {
      "cell_type": "code",
      "metadata": {
        "id": "Zr-oAIZ-zR-V",
        "colab": {
          "base_uri": "https://localhost:8080/"
        },
        "outputId": "e137a19a-a813-4410-d7ed-ac9f8cda427c"
      },
      "source": [
        "print('----------- all keys fron the dictionary ----------')\n",
        "for i in mktcaps:\n",
        "    print(i)\n",
        "\n",
        "print()\n",
        "print('----------- all values from the dictionary ----------')\n",
        "for j in mktcaps:\n",
        "    print(mktcaps[j])\n",
        "\n",
        "print()\n",
        "print('----------- all dictionary elements ----------')\n",
        "print(\"When two variables are on the left of the .items() function.\")\n",
        "for i,j in mktcaps.items():\n",
        "     print(i,j)           # i represents the key, and j represents the value when using the .items() function\n",
        "     print(\"The type of the key is\",type(i))\n",
        "     print(\"The type of the value associated with that key is\",type(j))\n",
        "     print()\n",
        "\n",
        "print(\"When one variable is on the left of the .items() function.\")\n",
        "for x in mktcaps.items():\n",
        "    print(x)              # when only one variable on the left is indicate with .items(), x becomes a tuple that takes on the value of a dictionary element.\n",
        "    print(\"The type of this dictionary element is\", type(x))"
      ],
      "execution_count": null,
      "outputs": [
        {
          "output_type": "stream",
          "name": "stdout",
          "text": [
            "----------- all keys fron the dictionary ----------\n",
            "AAPL\n",
            "IONS\n",
            "GS\n",
            "GE\n",
            "\n",
            "----------- all values from the dictionary ----------\n",
            "538.7\n",
            "4.6\n",
            "88.65\n",
            "10.98\n",
            "\n",
            "----------- all dictionary elements ----------\n",
            "When two variables are on the left of the .items() function.\n",
            "AAPL 538.7\n",
            "The type of the key is <class 'str'>\n",
            "The type of the value associated with that key is <class 'float'>\n",
            "\n",
            "IONS 4.6\n",
            "The type of the key is <class 'str'>\n",
            "The type of the value associated with that key is <class 'float'>\n",
            "\n",
            "GS 88.65\n",
            "The type of the key is <class 'str'>\n",
            "The type of the value associated with that key is <class 'float'>\n",
            "\n",
            "GE 10.98\n",
            "The type of the key is <class 'str'>\n",
            "The type of the value associated with that key is <class 'float'>\n",
            "\n",
            "When one variable is on the left of the .items() function.\n",
            "('AAPL', 538.7)\n",
            "The type of this dictionary element is <class 'tuple'>\n",
            "('IONS', 4.6)\n",
            "The type of this dictionary element is <class 'tuple'>\n",
            "('GS', 88.65)\n",
            "The type of this dictionary element is <class 'tuple'>\n",
            "('GE', 10.98)\n",
            "The type of this dictionary element is <class 'tuple'>\n"
          ]
        }
      ]
    },
    {
      "cell_type": "code",
      "source": [
        "mktcaps = {\n",
        "    'AAPL':538.7,\n",
        "    'GOOG':68.7,\n",
        "    'IONS':4.6\n",
        "}\n",
        "\n",
        "for i in mktcaps:\n",
        "    print(mktcaps[i])"
      ],
      "metadata": {
        "colab": {
          "base_uri": "https://localhost:8080/"
        },
        "id": "kFqy140Ido8R",
        "outputId": "38624b51-ae94-4a58-d8c3-9f0209fa9a8e"
      },
      "execution_count": null,
      "outputs": [
        {
          "output_type": "stream",
          "name": "stdout",
          "text": [
            "538.7\n",
            "68.7\n",
            "4.6\n"
          ]
        }
      ]
    },
    {
      "cell_type": "code",
      "source": [
        "mktcaps['AAPL']"
      ],
      "metadata": {
        "colab": {
          "base_uri": "https://localhost:8080/"
        },
        "id": "poL62sQOdyKp",
        "outputId": "b6f793ee-d8a6-4929-9afc-1d0303e9b954"
      },
      "execution_count": null,
      "outputs": [
        {
          "output_type": "execute_result",
          "data": {
            "text/plain": [
              "538.7"
            ]
          },
          "metadata": {},
          "execution_count": 8
        }
      ]
    },
    {
      "cell_type": "markdown",
      "metadata": {
        "id": "H0vYajF-zR-W"
      },
      "source": [
        "#### Check if an item is in a dictionary"
      ]
    },
    {
      "cell_type": "code",
      "metadata": {
        "id": "gVZxcoyczR-X"
      },
      "source": [
        "mktcaps = {\n",
        "    'AAPL':538.7,\n",
        "    'GOOG':68.7,\n",
        "    'IONS':4.6\n",
        "}\n",
        "\n",
        "if 'GOOG' in mktcaps:\n",
        "  print('yes, GOOG is in this collection')"
      ],
      "execution_count": null,
      "outputs": []
    },
    {
      "cell_type": "markdown",
      "metadata": {
        "id": "gvNewfvfzR-Y"
      },
      "source": [
        "#### Exercise"
      ]
    },
    {
      "cell_type": "code",
      "metadata": {
        "id": "tVDke0CqzR-Y",
        "colab": {
          "base_uri": "https://localhost:8080/"
        },
        "outputId": "a1906956-ffc3-414f-9847-e7a3953e0485"
      },
      "source": [
        "# Create a Dictionary with the following key, value pairs (fruit and price):  apple 1.25, orange .75, banana .50\n",
        "fruit={\n",
        "    'apple': .79,\n",
        "    'grapefruit': 1.29,\n",
        "    'banana': .50\n",
        "}\n",
        "\n",
        "# Use the appropriate method to return the price of an apple.\n",
        "print(fruit['apple'])\n",
        "\n",
        "# Add a pear with a price of .95 to the dictionary\n",
        "fruit['pear']=.95\n",
        "print(fruit)\n",
        "\n",
        "# Remove the entry for banana from the dictionary\n",
        "del(fruit['banana'])\n",
        "\n",
        "\n",
        "# Return all the keys for the inventory dictionary\n",
        "\n",
        "print (fruit.keys())\n",
        "\n",
        "# Return all the values for the inventory dictionary\n",
        "\n",
        "print (fruit.values())\n"
      ],
      "execution_count": null,
      "outputs": [
        {
          "output_type": "stream",
          "name": "stdout",
          "text": [
            "0.79\n",
            "{'apple': 0.79, 'grapefruit': 1.29, 'banana': 0.5, 'pear': 0.95}\n",
            "dict_keys(['apple', 'grapefruit', 'pear'])\n",
            "dict_values([0.79, 1.29, 0.95])\n"
          ]
        }
      ]
    }
  ]
}